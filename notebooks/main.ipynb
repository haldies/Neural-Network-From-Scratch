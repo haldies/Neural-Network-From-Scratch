{
 "cells": [
  {
   "cell_type": "code",
   "execution_count": 1,
   "metadata": {},
   "outputs": [],
   "source": [
    "import numpy as np\n",
    "import matplotlib.pyplot as plt"
   ]
  },
  {
   "cell_type": "markdown",
   "metadata": {},
   "source": [
    "### load dataset"
   ]
  },
  {
   "cell_type": "code",
   "execution_count": 2,
   "metadata": {},
   "outputs": [],
   "source": [
    "# import requests\n",
    "\n",
    "# url = \"https://www.kaggle.com/api/v1/datasets/download/hojjatk/mnist-dataset\"\n",
    "\n",
    "# output_path = \"mnist-dataset.zip\"\n",
    "\n",
    "\n",
    "# response = requests.get(url, stream=True)\n",
    "\n",
    "# if response.status_code == 200:  \n",
    "#     with open(output_path, 'wb') as f:\n",
    "#         for chunk in response.iter_content(chunk_size=1024):\n",
    "#             if chunk:  \n",
    "#                 f.write(chunk)\n",
    "#     print(f\"File berhasil diunduh dan disimpan sebagai {output_path}\")\n",
    "# else:\n",
    "#     print(f\"Failed to download file. Status code: {response.status_code}\")\n"
   ]
  },
  {
   "cell_type": "code",
   "execution_count": 3,
   "metadata": {},
   "outputs": [],
   "source": [
    "# !unzip mnist-dataset.zip"
   ]
  },
  {
   "cell_type": "code",
   "execution_count": 8,
   "metadata": {},
   "outputs": [
    {
     "name": "stdout",
     "output_type": "stream",
     "text": [
      "Training data shape: (60000, 784)\n",
      "Training labels shape: (60000,)\n",
      "Test data shape: (10000, 784)\n",
      "Test labels shape: (10000,)\n"
     ]
    }
   ],
   "source": [
    "import numpy as np\n",
    "import gzip\n",
    "\n",
    "def load_mnist_images(file_path):\n",
    "    # Membaca file gambar\n",
    "    with open(file_path, 'rb') as f:\n",
    "        f.read(16)  # Melewati header 16 byte\n",
    "        data = np.frombuffer(f.read(), dtype=np.uint8)  # Membaca seluruh data\n",
    "        images = data.reshape(-1, 28 * 28) / 255.0  # Normalisasi ke rentang [0, 1]\n",
    "    return images\n",
    "\n",
    "def load_mnist_labels(file_path):\n",
    "    # Membaca file label\n",
    "    with open(file_path, 'rb') as f:\n",
    "        f.read(8)  # Melewati header 8 byte\n",
    "        labels = np.frombuffer(f.read(), dtype=np.uint8)  # Membaca seluruh data label\n",
    "    return labels\n",
    "\n",
    "\n",
    "train_images_path = '../data/train-images.idx3-ubyte'\n",
    "train_labels_path = '../data/train-labels.idx1-ubyte'\n",
    "test_images_path = '../data/t10k-images.idx3-ubyte'\n",
    "test_labels_path = '../data/t10k-labels.idx1-ubyte'\n",
    "\n",
    "\n",
    "train_images = load_mnist_images(train_images_path)\n",
    "train_labels = load_mnist_labels(train_labels_path)\n",
    "test_images = load_mnist_images(test_images_path)\n",
    "test_labels = load_mnist_labels(test_labels_path)\n",
    "\n",
    "# Memeriksa ukuran dataset\n",
    "print(\"Training data shape:\", train_images.shape)  # Harusnya (60000, 784)\n",
    "print(\"Training labels shape:\", train_labels.shape)  # Harusnya (60000,)\n",
    "print(\"Test data shape:\", test_images.shape)  # Harusnya (10000, 784)\n",
    "print(\"Test labels shape:\", test_labels.shape)  # Harusnya (10000,)\n"
   ]
  },
  {
   "cell_type": "code",
   "execution_count": 9,
   "metadata": {},
   "outputs": [
    {
     "data": {
      "image/png": "[encoded data removed]",
      "text/plain": [
       "<Figure size 1000x400 with 10 Axes>"
      ]
     },
     "metadata": {},
     "output_type": "display_data"
    }
   ],
   "source": [
    "\n",
    "\n",
    "def plot_mnist_images(images, labels, num_images=10):\n",
    "    plt.figure(figsize=(10, 4))\n",
    "    \n",
    "    for i in range(num_images):\n",
    "        plt.subplot(2, 5, i + 1)\n",
    "        plt.imshow(images[i].reshape(28, 28), cmap='gray')\n",
    "        plt.title(f'Label: {labels[i]}')\n",
    "        plt.axis('off')  \n",
    "    \n",
    "    plt.tight_layout()\n",
    "    plt.show()\n",
    "\n",
    "\n",
    "plot_mnist_images(train_images, train_labels, num_images=10)\n"
   ]
  },
  {
   "cell_type": "code",
   "execution_count": 55,
   "metadata": {},
   "outputs": [
    {
     "name": "stdout",
     "output_type": "stream",
     "text": [
      "Training data shape: (48000, 784)\n",
      "Training labels shape: (48000,)\n",
      "Test data shape: (12000, 784)\n",
      "Test labels shape: (12000,)\n"
     ]
    }
   ],
   "source": [
    "\n",
    "np.random.seed(42)\n",
    "\n",
    "# Membuat array indeks acak\n",
    "indices = np.random.permutation(train_images.shape[0])  # Mengacak indeks\n",
    "test_size = int(0.2 * len(indices))  # Menentukan ukuran set pengujian\n",
    "train_size = len(indices) - test_size  # Ukuran set pelatihan\n",
    "\n",
    "# Memisahkan indeks untuk set pelatihan dan pengujian\n",
    "test_indices = indices[:test_size]\n",
    "train_indices = indices[test_size:]\n",
    "\n",
    "# Membagi dataset berdasarkan indeks\n",
    "X_train = train_images[train_indices]\n",
    "y_train = train_labels[train_indices]\n",
    "X_test = train_images[test_indices]\n",
    "y_test = train_labels[test_indices]\n",
    "\n",
    "# Memeriksa ukuran dataset\n",
    "print(\"Training data shape:\", X_train.shape)  # Harusnya (48000, 784)\n",
    "print(\"Training labels shape:\", y_train.shape)  # Harusnya (48000,)\n",
    "print(\"Test data shape:\", X_test.shape)  # Harusnya (12000, 784)\n",
    "print(\"Test labels shape:\", y_test.shape)  # Harusnya (12000,)\n"
   ]
  },
  {
   "cell_type": "code",
   "execution_count": 66,
   "metadata": {},
   "outputs": [
    {
     "name": "stdout",
     "output_type": "stream",
     "text": [
      "Tensor Training data shape: (48000, 784)\n",
      "Tensor Training labels shape: (48000,)\n",
      "Tensor Test data shape: (12000, 784)\n",
      "Tensor Test labels shape: (12000,)\n"
     ]
    }
   ],
   "source": [
    "def to_tensor(data):\n",
    "    return np.array(data)  \n",
    "\n",
    "\n",
    "tensor_X_train = to_tensor(X_train)\n",
    "tensor_y_train = to_tensor(y_train)\n",
    "tensor_X_test = to_tensor(X_test)\n",
    "tensor_y_test = to_tensor(y_test)\n",
    "\n",
    "# # Memeriksa bentuk tensor\n",
    "# print(\"Tensor Training data shape:\", tensor_X_train.shape)  # Harusnya (48000, 784)\n",
    "# print(\"Tensor Training labels shape:\", tensor_y_train.shape)  # Harusnya (48000,)\n",
    "# print(\"Tensor Test data shape:\", tensor_X_test.shape)  # Harusnya (12000, 784)\n",
    "# print(\"Tensor Test labels shape:\", tensor_y_test.shape)  # Harusnya (12000,)"
   ]
  },
  {
   "cell_type": "code",
   "execution_count": 58,
   "metadata": {},
   "outputs": [],
   "source": [
    "class Dense:\n",
    "    def __init__(self, input_size, output_size, activation):\n",
    "        self.input_size = input_size\n",
    "        self.output_size = output_size\n",
    "        self.activation = activation\n",
    "        self.W = np.random.randn(input_size, output_size) * 0.01  # Bobot\n",
    "        self.b = np.zeros((1, output_size))  # Bias\n",
    "        self.last_input = None  # Untuk menyimpan input terakhir\n",
    "        self.last_output = None  # Untuk menyimpan output terakhir\n",
    "\n",
    "    def forward(self, A_in):\n",
    "        self.last_input = A_in  # Simpan input terakhir\n",
    "        Z = np.dot(A_in, self.W) + self.b  # Z = W * A_in + b\n",
    "        self.last_output = self.activation(Z)  # Simpan output terakhir\n",
    "        return self.last_output  # Menggunakan fungsi aktivasi"
   ]
  },
  {
   "cell_type": "code",
   "execution_count": 59,
   "metadata": {},
   "outputs": [],
   "source": [
    "def relu(x):\n",
    "    return np.maximum(0, x)\n",
    "\n",
    "def softmax(z):\n",
    "    exp_z = np.exp(z - np.max(z))  # Untuk stabilitas numerik\n",
    "    return exp_z / np.sum(exp_z, axis=1, keepdims=True)"
   ]
  },
  {
   "cell_type": "code",
   "execution_count": 60,
   "metadata": {},
   "outputs": [],
   "source": [
    "def sparse_categorical_crossentropy(y_true, y_pred):\n",
    "    # y_true adalah label yang benar (scalar), y_pred adalah output dari model\n",
    "    return -np.log(y_pred[0, int(y_true)])\n"
   ]
  },
  {
   "cell_type": "code",
   "execution_count": 61,
   "metadata": {},
   "outputs": [],
   "source": [
    "class NeuralNetwork:\n",
    "    def __init__(self):\n",
    "        self.layers = [\n",
    "            Dense(784, 128, relu),  # Lapisan pertama\n",
    "            Dense(128, 64, relu),   # Lapisan kedua\n",
    "            Dense(64, 10, softmax)   # Lapisan output\n",
    "        ]\n",
    "\n",
    "    def forward(self, X):\n",
    "        for layer in self.layers:\n",
    "            X = layer.forward(X)\n",
    "        return X\n",
    "\n",
    "    def backward(self, y_true, learning_rate):\n",
    "        # Hitung gradien untuk output layer\n",
    "        output_layer = self.layers[-1]\n",
    "        dZ = output_layer.last_output.copy()\n",
    "        dZ[0, int(y_true)] -= 1  # Hanya mengubah elemen yang sesuai dengan label\n",
    "        dW = np.dot(output_layer.last_input.T, dZ)  # Gradien bobot\n",
    "        output_layer.W -= learning_rate * dW  # Pembaruan bobot\n",
    "        output_layer.b -= learning_rate * np.sum(dZ, axis=0, keepdims=True)  # Pembaruan bias\n",
    "\n",
    "        # Hitung gradien untuk hidden layers\n",
    "        for layer in reversed(self.layers[:-1]):\n",
    "            dZ = np.dot(dZ, layer.W.T)  # Gradien untuk layer sebelumnya\n",
    "            dZ[layer.last_input <= 0] = 0  # Derivatif dari ReLU\n",
    "            dW = np.dot(layer.last_input.T, dZ)  # Gradien bobot\n",
    "            layer.W -= learning_rate * dW  # Pembaruan bobot\n",
    "            layer.b -= learning_rate * np.sum(dZ, axis=0, keepdims=True)  # Pembaruan bias"
   ]
  },
  {
   "cell_type": "code",
   "execution_count": 62,
   "metadata": {},
   "outputs": [],
   "source": [
    "def train_model(model, train_images, train_labels, epochs=10, learning_rate=0.01):\n",
    "    for epoch in range(epochs):\n",
    "        total_loss = 0\n",
    "        for i in range(len(train_images)):\n",
    "            # Forward pass\n",
    "            output = model.forward(train_images[i].reshape(1, -1))  \n",
    "            # Hitung loss\n",
    "            loss = sparse_categorical_crossentropy(train_labels[i], output)\n",
    "            total_loss += loss\n",
    "            \n",
    "            # Perbarui bobot untuk setiap layer dengan backward pass\n",
    "            model.backward(train_labels[i], learning_rate)\n",
    "\n",
    "        # Tampilkan loss untuk setiap epoch\n",
    "        print(f\"Epoch {epoch + 1}, Loss: {total_loss / len(train_images)}\")"
   ]
  },
  {
   "cell_type": "code",
   "execution_count": 63,
   "metadata": {},
   "outputs": [
    {
     "ename": "ValueError",
     "evalue": "shapes (1,10) and (64,128) not aligned: 10 (dim 1) != 64 (dim 0)",
     "output_type": "error",
     "traceback": [
      "\u001b[1;31m---------------------------------------------------------------------------\u001b[0m",
      "\u001b[1;31mValueError\u001b[0m                                Traceback (most recent call last)",
      "Cell \u001b[1;32mIn[63], line 3\u001b[0m\n\u001b[0;32m      1\u001b[0m \u001b[38;5;66;03m# Inisialisasi dan melatih model\u001b[39;00m\n\u001b[0;32m      2\u001b[0m model \u001b[38;5;241m=\u001b[39m NeuralNetwork()\n\u001b[1;32m----> 3\u001b[0m \u001b[43mtrain_model\u001b[49m\u001b[43m(\u001b[49m\u001b[43mmodel\u001b[49m\u001b[43m,\u001b[49m\u001b[43m \u001b[49m\u001b[43mX_train\u001b[49m\u001b[43m,\u001b[49m\u001b[43m \u001b[49m\u001b[43my_train\u001b[49m\u001b[43m,\u001b[49m\u001b[43m \u001b[49m\u001b[43mepochs\u001b[49m\u001b[38;5;241;43m=\u001b[39;49m\u001b[38;5;241;43m10\u001b[39;49m\u001b[43m,\u001b[49m\u001b[43m \u001b[49m\u001b[43mlearning_rate\u001b[49m\u001b[38;5;241;43m=\u001b[39;49m\u001b[38;5;241;43m0.01\u001b[39;49m\u001b[43m)\u001b[49m\n",
      "Cell \u001b[1;32mIn[62], line 12\u001b[0m, in \u001b[0;36mtrain_model\u001b[1;34m(model, train_images, train_labels, epochs, learning_rate)\u001b[0m\n\u001b[0;32m      9\u001b[0m     total_loss \u001b[38;5;241m+\u001b[39m\u001b[38;5;241m=\u001b[39m loss\n\u001b[0;32m     11\u001b[0m     \u001b[38;5;66;03m# Perbarui bobot untuk setiap layer dengan backward pass\u001b[39;00m\n\u001b[1;32m---> 12\u001b[0m     \u001b[43mmodel\u001b[49m\u001b[38;5;241;43m.\u001b[39;49m\u001b[43mbackward\u001b[49m\u001b[43m(\u001b[49m\u001b[43mtrain_labels\u001b[49m\u001b[43m[\u001b[49m\u001b[43mi\u001b[49m\u001b[43m]\u001b[49m\u001b[43m,\u001b[49m\u001b[43m \u001b[49m\u001b[43mlearning_rate\u001b[49m\u001b[43m)\u001b[49m\n\u001b[0;32m     14\u001b[0m \u001b[38;5;66;03m# Tampilkan loss untuk setiap epoch\u001b[39;00m\n\u001b[0;32m     15\u001b[0m \u001b[38;5;28mprint\u001b[39m(\u001b[38;5;124mf\u001b[39m\u001b[38;5;124m\"\u001b[39m\u001b[38;5;124mEpoch \u001b[39m\u001b[38;5;132;01m{\u001b[39;00mepoch\u001b[38;5;250m \u001b[39m\u001b[38;5;241m+\u001b[39m\u001b[38;5;250m \u001b[39m\u001b[38;5;241m1\u001b[39m\u001b[38;5;132;01m}\u001b[39;00m\u001b[38;5;124m, Loss: \u001b[39m\u001b[38;5;132;01m{\u001b[39;00mtotal_loss\u001b[38;5;250m \u001b[39m\u001b[38;5;241m/\u001b[39m\u001b[38;5;250m \u001b[39m\u001b[38;5;28mlen\u001b[39m(train_images)\u001b[38;5;132;01m}\u001b[39;00m\u001b[38;5;124m\"\u001b[39m)\n",
      "Cell \u001b[1;32mIn[61], line 25\u001b[0m, in \u001b[0;36mNeuralNetwork.backward\u001b[1;34m(self, y_true, learning_rate)\u001b[0m\n\u001b[0;32m     23\u001b[0m \u001b[38;5;66;03m# Hitung gradien untuk hidden layers\u001b[39;00m\n\u001b[0;32m     24\u001b[0m \u001b[38;5;28;01mfor\u001b[39;00m layer \u001b[38;5;129;01min\u001b[39;00m \u001b[38;5;28mreversed\u001b[39m(\u001b[38;5;28mself\u001b[39m\u001b[38;5;241m.\u001b[39mlayers[:\u001b[38;5;241m-\u001b[39m\u001b[38;5;241m1\u001b[39m]):\n\u001b[1;32m---> 25\u001b[0m     dZ \u001b[38;5;241m=\u001b[39m \u001b[43mnp\u001b[49m\u001b[38;5;241;43m.\u001b[39;49m\u001b[43mdot\u001b[49m\u001b[43m(\u001b[49m\u001b[43mdZ\u001b[49m\u001b[43m,\u001b[49m\u001b[43m \u001b[49m\u001b[43mlayer\u001b[49m\u001b[38;5;241;43m.\u001b[39;49m\u001b[43mW\u001b[49m\u001b[38;5;241;43m.\u001b[39;49m\u001b[43mT\u001b[49m\u001b[43m)\u001b[49m  \u001b[38;5;66;03m# Gradien untuk layer sebelumnya\u001b[39;00m\n\u001b[0;32m     26\u001b[0m     dZ[layer\u001b[38;5;241m.\u001b[39mlast_input \u001b[38;5;241m<\u001b[39m\u001b[38;5;241m=\u001b[39m \u001b[38;5;241m0\u001b[39m] \u001b[38;5;241m=\u001b[39m \u001b[38;5;241m0\u001b[39m  \u001b[38;5;66;03m# Derivatif dari ReLU\u001b[39;00m\n\u001b[0;32m     27\u001b[0m     dW \u001b[38;5;241m=\u001b[39m np\u001b[38;5;241m.\u001b[39mdot(layer\u001b[38;5;241m.\u001b[39mlast_input\u001b[38;5;241m.\u001b[39mT, dZ)  \u001b[38;5;66;03m# Gradien bobot\u001b[39;00m\n",
      "\u001b[1;31mValueError\u001b[0m: shapes (1,10) and (64,128) not aligned: 10 (dim 1) != 64 (dim 0)"
     ]
    }
   ],
   "source": [
    "# Inisialisasi dan melatih model\n",
    "model = NeuralNetwork()\n",
    "train_model(model, X_train, y_train, epochs=10, learning_rate=0.01)"
   ]
  },
  {
   "cell_type": "code",
   "execution_count": 64,
   "metadata": {},
   "outputs": [],
   "source": [
    "def evaluate_model(model, test_images, test_labels):\n",
    "    correct_predictions = 0\n",
    "    for i in range(len(test_images)):\n",
    "        output = model.forward(test_images[i].reshape(1, -1))  # Mengubah bentuk input\n",
    "        predicted_label = np.argmax(output)  # Mendapatkan label yang diprediksi\n",
    "        if predicted_label == test_labels[i]:\n",
    "            correct_predictions += 1\n",
    "    accuracy = correct_predictions / len(test_images)\n",
    "    print(f\"Model Accuracy: {accuracy * 100:.2f}%\")\n",
    "\n"
   ]
  },
  {
   "cell_type": "code",
   "execution_count": 65,
   "metadata": {},
   "outputs": [
    {
     "name": "stdout",
     "output_type": "stream",
     "text": [
      "Model Accuracy: 9.20%\n"
     ]
    }
   ],
   "source": [
    "# Evaluasi model\n",
    "evaluate_model(model, X_test, y_test)"
   ]
  }
 ],
 "metadata": {
  "kernelspec": {
   "display_name": ".venv",
   "language": "python",
   "name": "python3"
  },
  "language_info": {
   "codemirror_mode": {
    "name": "ipython",
    "version": 3
   },
   "file_extension": ".py",
   "mimetype": "text/x-python",
   "name": "python",
   "nbconvert_exporter": "python",
   "pygments_lexer": "ipython3",
   "version": "3.11.5"
  }
 },
 "nbformat": 4,
 "nbformat_minor": 2
}
